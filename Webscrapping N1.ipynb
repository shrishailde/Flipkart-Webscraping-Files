{
 "cells": [
  {
   "cell_type": "code",
   "execution_count": 1,
   "id": "addressed-device",
   "metadata": {},
   "outputs": [
    {
     "name": "stdout",
     "output_type": "stream",
     "text": [
      "Python 3.8.5\n"
     ]
    }
   ],
   "source": [
    "!python --version"
   ]
  },
  {
   "cell_type": "code",
   "execution_count": 2,
   "id": "official-familiar",
   "metadata": {},
   "outputs": [
    {
     "name": "stdout",
     "output_type": "stream",
     "text": [
      "Requirement already satisfied: beautifulsoup4 in c:\\users\\cpl37\\miniconda3\\lib\\site-packages (4.10.0)\n",
      "Requirement already satisfied: soupsieve>1.2 in c:\\users\\cpl37\\miniconda3\\lib\\site-packages (from beautifulsoup4) (2.3.1)\n",
      "Requirement already satisfied: requests in c:\\users\\cpl37\\miniconda3\\lib\\site-packages (2.24.0)\n",
      "Requirement already satisfied: idna<3,>=2.5 in c:\\users\\cpl37\\miniconda3\\lib\\site-packages (from requests) (2.10)\n",
      "Requirement already satisfied: certifi>=2017.4.17 in c:\\users\\cpl37\\miniconda3\\lib\\site-packages (from requests) (2021.5.30)\n",
      "Requirement already satisfied: urllib3!=1.25.0,!=1.25.1,<1.26,>=1.21.1 in c:\\users\\cpl37\\miniconda3\\lib\\site-packages (from requests) (1.25.11)\n",
      "Requirement already satisfied: chardet<4,>=3.0.2 in c:\\users\\cpl37\\miniconda3\\lib\\site-packages (from requests) (3.0.4)\n",
      "Requirement already satisfied: SQLAlchemy in c:\\users\\cpl37\\miniconda3\\lib\\site-packages (1.4.28)\n"
     ]
    }
   ],
   "source": [
    "# install the necessary libraries\n",
    "!pip install beautifulsoup4\n",
    "!pip install requests\n",
    "!pip install SQLAlchemy"
   ]
  },
  {
   "cell_type": "markdown",
   "id": "alternative-richards",
   "metadata": {},
   "source": [
    "## Import the necessary packages\n"
   ]
  },
  {
   "cell_type": "code",
   "execution_count": 1,
   "id": "married-rendering",
   "metadata": {},
   "outputs": [],
   "source": [
    "from bs4 import BeautifulSoup\n",
    "import requests\n",
    "from sqlalchemy import create_engine"
   ]
  },
  {
   "cell_type": "code",
   "execution_count": 2,
   "id": "continental-liability",
   "metadata": {},
   "outputs": [],
   "source": [
    "website = \"https://www.flipkart.com/search?q=headphones&sid=0pm%2Cfcn&as=on&as-show=on&otracker=AS_QueryStore_OrganicAutoSuggest_1_7_na_na_na&otracker1=AS_QueryStore_OrganicAutoSuggest_1_7_na_na_na&as-pos=1&as-type=RECENT&suggestionId=headphones%7CHeadphones&requestId=4f0a773b-0c3f-4d39-a229-90a1b66546bc&as-searchtext=headpho&page=1\""
   ]
  },
  {
   "cell_type": "code",
   "execution_count": 3,
   "id": "remarkable-butter",
   "metadata": {},
   "outputs": [],
   "source": [
    "# Make a http request to above website variable using requests package\n",
    "response = requests.get(website)"
   ]
  },
  {
   "cell_type": "code",
   "execution_count": 4,
   "id": "cardiac-trader",
   "metadata": {},
   "outputs": [
    {
     "data": {
      "text/plain": [
       "<Response [200]>"
      ]
     },
     "execution_count": 4,
     "metadata": {},
     "output_type": "execute_result"
    }
   ],
   "source": [
    "response"
   ]
  },
  {
   "cell_type": "code",
   "execution_count": 5,
   "id": "romance-identifier",
   "metadata": {},
   "outputs": [],
   "source": [
    "# Since the response code is 200 it is successful."
   ]
  },
  {
   "cell_type": "markdown",
   "id": "textile-julian",
   "metadata": {},
   "source": [
    "## Parse the html contents using bs4 library and get title of the first search result"
   ]
  },
  {
   "cell_type": "code",
   "execution_count": 6,
   "id": "tropical-kernel",
   "metadata": {},
   "outputs": [],
   "source": [
    "soup = BeautifulSoup(response.content, 'html.parser')"
   ]
  },
  {
   "cell_type": "code",
   "execution_count": 7,
   "id": "activated-passage",
   "metadata": {},
   "outputs": [],
   "source": [
    "# Let us search for the title\n",
    "# ref: https://stackoverflow.com/questions/5041008/how-to-find-elements-by-class\n",
    "a_tags = soup.find_all(\"a\", {\"class\": \"s1Q9rs\"})"
   ]
  },
  {
   "cell_type": "code",
   "execution_count": 8,
   "id": "decent-proportion",
   "metadata": {},
   "outputs": [
    {
     "data": {
      "text/plain": [
       "40"
      ]
     },
     "execution_count": 8,
     "metadata": {},
     "output_type": "execute_result"
    }
   ],
   "source": [
    "len(a_tags)"
   ]
  },
  {
   "cell_type": "markdown",
   "id": "given-lottery",
   "metadata": {},
   "source": [
    "One can see there are 40 such tags!"
   ]
  },
  {
   "cell_type": "markdown",
   "id": "serial-distance",
   "metadata": {},
   "source": [
    "### Get title of the first search result"
   ]
  },
  {
   "cell_type": "code",
   "execution_count": 9,
   "id": "reflected-attitude",
   "metadata": {},
   "outputs": [
    {
     "data": {
      "text/plain": [
       "<a class=\"s1Q9rs\" href=\"/blue-seed-bbd-s19-true-wireless-portable-bluetooth-headset/p/itm9fdc94125d698?pid=ACCFRKG9UMZZRXMY&amp;lid=LSTACCFRKG9UMZZRXMYY0S6YT&amp;marketplace=FLIPKART&amp;q=headphones&amp;store=0pm%2Ffcn&amp;srno=s_1_1&amp;otracker=AS_QueryStore_OrganicAutoSuggest_1_7_na_na_na&amp;otracker1=AS_QueryStore_OrganicAutoSuggest_1_7_na_na_na&amp;fm=organic&amp;iid=en_fQsTmQ7BTSqsPOhRhfxeJnpjTPESKjMYN2%2FLMoL4VmKtU7%2BMuXhP91BtZd7fXygLoFZnqXlyAprCUuPUHf2C0g%3D%3D&amp;ppt=None&amp;ppn=None&amp;ssid=eyz7tpeqwg0000001640354642914&amp;qH=edd443896ef5dbfc\" rel=\"noopener noreferrer\" target=\"_blank\" title=\"blue seed BBD-S19 True wireless Portable Bluetooth Headset\">blue seed BBD-S19 True wireless Portable Bluetooth Head...</a>"
      ]
     },
     "execution_count": 9,
     "metadata": {},
     "output_type": "execute_result"
    }
   ],
   "source": [
    "a_tags[0]"
   ]
  },
  {
   "cell_type": "code",
   "execution_count": 10,
   "id": "convertible-water",
   "metadata": {},
   "outputs": [
    {
     "data": {
      "text/plain": [
       "'blue seed BBD-S19 True wireless Portable Bluetooth Head...'"
      ]
     },
     "execution_count": 10,
     "metadata": {},
     "output_type": "execute_result"
    }
   ],
   "source": [
    "a_tags[0].get_text()"
   ]
  },
  {
   "cell_type": "markdown",
   "id": "wrapped-ethnic",
   "metadata": {},
   "source": [
    "### get `color` and `type` of the first search result"
   ]
  },
  {
   "cell_type": "code",
   "execution_count": 11,
   "id": "naval-structure",
   "metadata": {},
   "outputs": [],
   "source": [
    "ct_tags = soup.find_all(\"div\",{'class':'_3Djpdu'})"
   ]
  },
  {
   "cell_type": "code",
   "execution_count": 12,
   "id": "referenced-indianapolis",
   "metadata": {},
   "outputs": [
    {
     "data": {
      "text/plain": [
       "40"
      ]
     },
     "execution_count": 12,
     "metadata": {},
     "output_type": "execute_result"
    }
   ],
   "source": [
    "len(ct_tags)"
   ]
  },
  {
   "cell_type": "code",
   "execution_count": 13,
   "id": "compliant-diamond",
   "metadata": {},
   "outputs": [
    {
     "data": {
      "text/plain": [
       "<div class=\"_3Djpdu\">Black, True Wireless</div>"
      ]
     },
     "execution_count": 13,
     "metadata": {},
     "output_type": "execute_result"
    }
   ],
   "source": [
    "ct_tags[0]"
   ]
  },
  {
   "cell_type": "code",
   "execution_count": 14,
   "id": "satisfactory-learning",
   "metadata": {},
   "outputs": [
    {
     "data": {
      "text/plain": [
       "'Black'"
      ]
     },
     "execution_count": 14,
     "metadata": {},
     "output_type": "execute_result"
    }
   ],
   "source": [
    "ct_tags[0].get_text().split(',')[0]"
   ]
  },
  {
   "cell_type": "code",
   "execution_count": 17,
   "id": "overhead-entrance",
   "metadata": {},
   "outputs": [
    {
     "data": {
      "text/plain": [
       "' In the Ear'"
      ]
     },
     "execution_count": 17,
     "metadata": {},
     "output_type": "execute_result"
    }
   ],
   "source": [
    "ct_tags[0].get_text().split(',')[1]"
   ]
  },
  {
   "cell_type": "markdown",
   "id": "southeast-graduation",
   "metadata": {},
   "source": [
    "### get average `rating` of the first search result"
   ]
  },
  {
   "cell_type": "code",
   "execution_count": 26,
   "id": "affecting-wright",
   "metadata": {},
   "outputs": [],
   "source": [
    "rating_tags = soup.find_all(\"div\",{'class':'_3LWZlK'})"
   ]
  },
  {
   "cell_type": "code",
   "execution_count": 27,
   "id": "adopted-directory",
   "metadata": {},
   "outputs": [
    {
     "data": {
      "text/plain": [
       "55"
      ]
     },
     "execution_count": 27,
     "metadata": {},
     "output_type": "execute_result"
    }
   ],
   "source": [
    "len(rating_tags)"
   ]
  },
  {
   "cell_type": "markdown",
   "id": "flexible-sweden",
   "metadata": {},
   "source": [
    "Right now the length is 55, but we will take only first 40"
   ]
  },
  {
   "cell_type": "code",
   "execution_count": 28,
   "id": "controversial-savings",
   "metadata": {},
   "outputs": [],
   "source": [
    "rating_tags = rating_tags[:40]"
   ]
  },
  {
   "cell_type": "code",
   "execution_count": 29,
   "id": "purple-naples",
   "metadata": {},
   "outputs": [
    {
     "data": {
      "text/plain": [
       "40"
      ]
     },
     "execution_count": 29,
     "metadata": {},
     "output_type": "execute_result"
    }
   ],
   "source": [
    "len(rating_tags)"
   ]
  },
  {
   "cell_type": "code",
   "execution_count": 30,
   "id": "orange-cotton",
   "metadata": {},
   "outputs": [
    {
     "data": {
      "text/plain": [
       "'3.4'"
      ]
     },
     "execution_count": 30,
     "metadata": {},
     "output_type": "execute_result"
    }
   ],
   "source": [
    "rating_tags[0].get_text()"
   ]
  },
  {
   "cell_type": "markdown",
   "id": "handmade-cologne",
   "metadata": {},
   "source": [
    "### Get the number of ratings of the first search result"
   ]
  },
  {
   "cell_type": "code",
   "execution_count": 31,
   "id": "tribal-increase",
   "metadata": {},
   "outputs": [],
   "source": [
    "nrating_tags = soup.find_all(\"span\",{'class':'_2_R_DZ'})"
   ]
  },
  {
   "cell_type": "code",
   "execution_count": 32,
   "id": "eleven-jackson",
   "metadata": {},
   "outputs": [
    {
     "data": {
      "text/plain": [
       "40"
      ]
     },
     "execution_count": 32,
     "metadata": {},
     "output_type": "execute_result"
    }
   ],
   "source": [
    "len(nrating_tags)"
   ]
  },
  {
   "cell_type": "code",
   "execution_count": 34,
   "id": "configured-listing",
   "metadata": {},
   "outputs": [
    {
     "data": {
      "text/plain": [
       "'47,660'"
      ]
     },
     "execution_count": 34,
     "metadata": {},
     "output_type": "execute_result"
    }
   ],
   "source": [
    "nrating_tags[0].get_text()[1:-1]"
   ]
  },
  {
   "cell_type": "markdown",
   "id": "patent-adapter",
   "metadata": {},
   "source": [
    "### Get the current selling price `curr_price` and `MRP` of the first search result"
   ]
  },
  {
   "cell_type": "code",
   "execution_count": 35,
   "id": "australian-candy",
   "metadata": {},
   "outputs": [],
   "source": [
    "cp_tags = soup.find_all('div', {'class':'_30jeq3'})"
   ]
  },
  {
   "cell_type": "code",
   "execution_count": 36,
   "id": "eleven-birth",
   "metadata": {},
   "outputs": [
    {
     "data": {
      "text/plain": [
       "45"
      ]
     },
     "execution_count": 36,
     "metadata": {},
     "output_type": "execute_result"
    }
   ],
   "source": [
    "len(cp_tags)"
   ]
  },
  {
   "cell_type": "code",
   "execution_count": 39,
   "id": "piano-tenant",
   "metadata": {},
   "outputs": [
    {
     "data": {
      "text/plain": [
       "'144'"
      ]
     },
     "execution_count": 39,
     "metadata": {},
     "output_type": "execute_result"
    }
   ],
   "source": [
    "# Taking first 40 results only\n",
    "cp_tags = cp_tags[:40]\n",
    "cp_tags[0].get_text()[1:]"
   ]
  },
  {
   "cell_type": "code",
   "execution_count": 40,
   "id": "mathematical-solomon",
   "metadata": {},
   "outputs": [],
   "source": [
    "mrp_tags = soup.find_all('div', {'class':'_3I9_wc'})"
   ]
  },
  {
   "cell_type": "code",
   "execution_count": 41,
   "id": "bored-mixer",
   "metadata": {},
   "outputs": [
    {
     "data": {
      "text/plain": [
       "40"
      ]
     },
     "execution_count": 41,
     "metadata": {},
     "output_type": "execute_result"
    }
   ],
   "source": [
    "len(mrp_tags)"
   ]
  },
  {
   "cell_type": "code",
   "execution_count": 43,
   "id": "collaborative-british",
   "metadata": {},
   "outputs": [
    {
     "data": {
      "text/plain": [
       "'599'"
      ]
     },
     "execution_count": 43,
     "metadata": {},
     "output_type": "execute_result"
    }
   ],
   "source": [
    "mrp_tags[0].get_text()[1:]"
   ]
  },
  {
   "cell_type": "code",
   "execution_count": null,
   "id": "colored-keeping",
   "metadata": {},
   "outputs": [],
   "source": []
  }
 ],
 "metadata": {
  "kernelspec": {
   "display_name": "Python 3 (ipykernel)",
   "language": "python",
   "name": "python3"
  },
  "language_info": {
   "codemirror_mode": {
    "name": "ipython",
    "version": 3
   },
   "file_extension": ".py",
   "mimetype": "text/x-python",
   "name": "python",
   "nbconvert_exporter": "python",
   "pygments_lexer": "ipython3",
   "version": "3.8.12"
  }
 },
 "nbformat": 4,
 "nbformat_minor": 5
}
